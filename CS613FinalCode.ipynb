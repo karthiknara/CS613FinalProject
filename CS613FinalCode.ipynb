{
  "cells": [
    {
      "cell_type": "code",
      "execution_count": 2,
      "id": "d3bdd65a-95f6-4079-a43d-764ef267f1ff",
      "metadata": {
        "id": "d3bdd65a-95f6-4079-a43d-764ef267f1ff"
      },
      "outputs": [],
      "source": [
        "from sklearn.multiclass import OneVsRestClassifier\n",
        "from sklearn.svm import SVC\n",
        "from sklearn.neighbors import KNeighborsClassifier\n",
        "from sklearn.metrics import accuracy_score, classification_report\n",
        "from sklearn.model_selection import train_test_split\n",
        "import numpy as np\n",
        "import pandas as pd"
      ]
    },
    {
      "cell_type": "code",
      "execution_count": 3,
      "id": "fa6ff8bb-df36-4c62-9904-a726d4d38daf",
      "metadata": {
        "id": "fa6ff8bb-df36-4c62-9904-a726d4d38daf"
      },
      "outputs": [],
      "source": [
        "import matplotlib.pyplot as plt\n",
        "import matplotlib.axes as ax\n"
      ]
    },
    {
      "cell_type": "code",
      "source": [
        "from google.colab import files\n",
        "uploaded = files.upload()"
      ],
      "metadata": {
        "colab": {
          "resources": {
            "http://localhost:8080/nbextensions/google.colab/files.js": {
              "data": "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",
              "ok": true,
              "headers": [
                [
                  "content-type",
                  "application/javascript"
                ]
              ],
              "status": 200,
              "status_text": ""
            }
          },
          "base_uri": "https://localhost:8080/",
          "height": 73
        },
        "id": "A9tPdgovQeoM",
        "outputId": "ba2c4dbd-22a8-41d6-bafa-358a1c21d0b2"
      },
      "id": "A9tPdgovQeoM",
      "execution_count": 4,
      "outputs": [
        {
          "output_type": "display_data",
          "data": {
            "text/html": [
              "\n",
              "     <input type=\"file\" id=\"files-4a9dea0b-7456-4692-a0bf-388f5add6cd2\" name=\"files[]\" multiple disabled\n",
              "        style=\"border:none\" />\n",
              "     <output id=\"result-4a9dea0b-7456-4692-a0bf-388f5add6cd2\">\n",
              "      Upload widget is only available when the cell has been executed in the\n",
              "      current browser session. Please rerun this cell to enable.\n",
              "      </output>\n",
              "      <script src=\"/nbextensions/google.colab/files.js\"></script> "
            ],
            "text/plain": [
              "<IPython.core.display.HTML object>"
            ]
          },
          "metadata": {}
        },
        {
          "output_type": "stream",
          "name": "stdout",
          "text": [
            "Saving IMDB-Movie-Data.csv to IMDB-Movie-Data.csv\n"
          ]
        }
      ]
    },
    {
      "cell_type": "code",
      "execution_count": 5,
      "id": "9b4e214a-6fe8-47b2-9650-d75c1bc132bf",
      "metadata": {
        "id": "9b4e214a-6fe8-47b2-9650-d75c1bc132bf"
      },
      "outputs": [],
      "source": [
        "df = pd.read_csv('IMDB-Movie-Data.csv')"
      ]
    },
    {
      "cell_type": "code",
      "execution_count": 6,
      "id": "b9651f0d-7c39-44a9-97fc-34c39450a48e",
      "metadata": {
        "colab": {
          "base_uri": "https://localhost:8080/"
        },
        "id": "b9651f0d-7c39-44a9-97fc-34c39450a48e",
        "outputId": "1fd25729-eefe-4700-c8ce-ed86ff7980e9"
      },
      "outputs": [
        {
          "output_type": "execute_result",
          "data": {
            "text/plain": [
              "(1000, 12)"
            ]
          },
          "metadata": {},
          "execution_count": 6
        }
      ],
      "source": [
        "df.shape"
      ]
    },
    {
      "cell_type": "code",
      "execution_count": 7,
      "id": "a7b81163-0fdf-4cc5-ba74-c665923c43f9",
      "metadata": {
        "id": "a7b81163-0fdf-4cc5-ba74-c665923c43f9"
      },
      "outputs": [],
      "source": [
        "df = df.dropna()"
      ]
    },
    {
      "cell_type": "code",
      "execution_count": 8,
      "id": "3682b07e-bce7-42c3-a9e7-b2c52fabadbc",
      "metadata": {
        "colab": {
          "base_uri": "https://localhost:8080/"
        },
        "id": "3682b07e-bce7-42c3-a9e7-b2c52fabadbc",
        "outputId": "097aa872-7b34-4737-931f-222adcff0c63"
      },
      "outputs": [
        {
          "output_type": "execute_result",
          "data": {
            "text/plain": [
              "(907, 12)"
            ]
          },
          "metadata": {},
          "execution_count": 8
        }
      ],
      "source": [
        "df.shape"
      ]
    },
    {
      "cell_type": "code",
      "execution_count": 9,
      "id": "3d697618-60f4-43b0-b0c8-92957e0a3e7c",
      "metadata": {
        "id": "3d697618-60f4-43b0-b0c8-92957e0a3e7c"
      },
      "outputs": [],
      "source": [
        "df = df.reset_index()\n"
      ]
    },
    {
      "cell_type": "code",
      "execution_count": null,
      "id": "7eea8c09-2810-44d2-b71c-edaa183f0ad5",
      "metadata": {
        "id": "7eea8c09-2810-44d2-b71c-edaa183f0ad5",
        "outputId": "1a20924e-6757-44ff-f1c8-f4c50773cbb9"
      },
      "outputs": [
        {
          "data": {
            "text/plain": [
              "4.0"
            ]
          },
          "execution_count": 39,
          "metadata": {},
          "output_type": "execute_result"
        }
      ],
      "source": [
        ""
      ]
    },
    {
      "cell_type": "code",
      "execution_count": 10,
      "id": "04c0e781-ef92-47b6-981e-55d2dcb106cc",
      "metadata": {
        "colab": {
          "base_uri": "https://localhost:8080/"
        },
        "id": "04c0e781-ef92-47b6-981e-55d2dcb106cc",
        "outputId": "5d314ce2-4c90-4ad3-f1aa-d9b748ce1871"
      },
      "outputs": [
        {
          "output_type": "stream",
          "name": "stderr",
          "text": [
            "/usr/local/lib/python3.7/dist-packages/ipykernel_launcher.py:11: SettingWithCopyWarning: \n",
            "A value is trying to be set on a copy of a slice from a DataFrame\n",
            "\n",
            "See the caveats in the documentation: https://pandas.pydata.org/pandas-docs/stable/user_guide/indexing.html#returning-a-view-versus-a-copy\n",
            "  # This is added back by InteractiveShellApp.init_path()\n",
            "/usr/local/lib/python3.7/dist-packages/ipykernel_launcher.py:9: SettingWithCopyWarning: \n",
            "A value is trying to be set on a copy of a slice from a DataFrame\n",
            "\n",
            "See the caveats in the documentation: https://pandas.pydata.org/pandas-docs/stable/user_guide/indexing.html#returning-a-view-versus-a-copy\n",
            "  if __name__ == '__main__':\n",
            "/usr/local/lib/python3.7/dist-packages/ipykernel_launcher.py:7: SettingWithCopyWarning: \n",
            "A value is trying to be set on a copy of a slice from a DataFrame\n",
            "\n",
            "See the caveats in the documentation: https://pandas.pydata.org/pandas-docs/stable/user_guide/indexing.html#returning-a-view-versus-a-copy\n",
            "  import sys\n",
            "/usr/local/lib/python3.7/dist-packages/ipykernel_launcher.py:5: SettingWithCopyWarning: \n",
            "A value is trying to be set on a copy of a slice from a DataFrame\n",
            "\n",
            "See the caveats in the documentation: https://pandas.pydata.org/pandas-docs/stable/user_guide/indexing.html#returning-a-view-versus-a-copy\n",
            "  \"\"\"\n",
            "/usr/local/lib/python3.7/dist-packages/ipykernel_launcher.py:3: SettingWithCopyWarning: \n",
            "A value is trying to be set on a copy of a slice from a DataFrame\n",
            "\n",
            "See the caveats in the documentation: https://pandas.pydata.org/pandas-docs/stable/user_guide/indexing.html#returning-a-view-versus-a-copy\n",
            "  This is separate from the ipykernel package so we can avoid doing imports until\n"
          ]
        }
      ],
      "source": [
        "for i in range(len(df['Rating'])):\n",
        "    if df['Rating'][i] > 0 and df['Rating'][i] <= 2:\n",
        "        df['Rating'][i] = 1\n",
        "    elif df['Rating'][i] > 2 and df['Rating'][i] <= 4:\n",
        "        df['Rating'][i] = 2\n",
        "    elif df['Rating'][i] > 4 and df['Rating'][i] <= 6:\n",
        "        df['Rating'][i] = 3\n",
        "    elif df['Rating'][i] > 6 and df['Rating'][i] <= 8:\n",
        "        df['Rating'][i] = 4\n",
        "    elif df['Rating'][i] > 8 and df['Rating'][i] <= 10:\n",
        "        df['Rating'][i] = 5"
      ]
    },
    {
      "cell_type": "code",
      "execution_count": 11,
      "id": "16aaafed-2268-47a1-8178-50e3f281bb02",
      "metadata": {
        "id": "16aaafed-2268-47a1-8178-50e3f281bb02"
      },
      "outputs": [],
      "source": [
        "df = df.drop(columns=['Rank','index'])"
      ]
    },
    {
      "cell_type": "code",
      "execution_count": 12,
      "id": "49a7c57a-b62d-4102-a546-77d80b4e1ce1",
      "metadata": {
        "colab": {
          "base_uri": "https://localhost:8080/"
        },
        "id": "49a7c57a-b62d-4102-a546-77d80b4e1ce1",
        "outputId": "ea53931d-5dd3-4511-beb3-7e09c5a9019d"
      },
      "outputs": [
        {
          "output_type": "execute_result",
          "data": {
            "text/plain": [
              "['Title',\n",
              " 'Genre',\n",
              " 'Description',\n",
              " 'Director',\n",
              " 'Actors',\n",
              " 'Year',\n",
              " 'Runtime (Minutes)',\n",
              " 'Rating',\n",
              " 'Votes',\n",
              " 'Revenue (Millions)',\n",
              " 'Metascore']"
            ]
          },
          "metadata": {},
          "execution_count": 12
        }
      ],
      "source": [
        "list(df)"
      ]
    },
    {
      "cell_type": "code",
      "execution_count": 13,
      "id": "f1a154b1-c72d-4912-8bf9-9170291c18c8",
      "metadata": {
        "id": "f1a154b1-c72d-4912-8bf9-9170291c18c8"
      },
      "outputs": [],
      "source": [
        "x_data = df[['Runtime (Minutes)','Votes','Revenue (Millions)','Metascore']]"
      ]
    },
    {
      "cell_type": "code",
      "execution_count": 14,
      "id": "be564ea8-aeaf-43b0-9c8e-35cba45ea45a",
      "metadata": {
        "id": "be564ea8-aeaf-43b0-9c8e-35cba45ea45a"
      },
      "outputs": [],
      "source": [
        "y_data = df[['Rating']]"
      ]
    },
    {
      "cell_type": "code",
      "execution_count": 15,
      "id": "d0621a74-768e-479d-ac6e-ba203c61a24d",
      "metadata": {
        "id": "d0621a74-768e-479d-ac6e-ba203c61a24d"
      },
      "outputs": [],
      "source": [
        "x_train, x_test, y_train, y_test = train_test_split(x_data, y_data ,test_size = 0.2, shuffle=True)"
      ]
    },
    {
      "cell_type": "code",
      "execution_count": 16,
      "id": "90392546-52a7-41af-86a2-4db5eb0f0f61",
      "metadata": {
        "colab": {
          "base_uri": "https://localhost:8080/"
        },
        "id": "90392546-52a7-41af-86a2-4db5eb0f0f61",
        "outputId": "3f1d61ef-fe82-4bd7-8d82-c07c1f5c3dcb"
      },
      "outputs": [
        {
          "output_type": "stream",
          "name": "stderr",
          "text": [
            "/usr/local/lib/python3.7/dist-packages/sklearn/neighbors/_classification.py:198: DataConversionWarning: A column-vector y was passed when a 1d array was expected. Please change the shape of y to (n_samples,), for example using ravel().\n",
            "  return self._fit(X, y)\n"
          ]
        },
        {
          "output_type": "execute_result",
          "data": {
            "text/plain": [
              "KNeighborsClassifier(n_neighbors=3)"
            ]
          },
          "metadata": {},
          "execution_count": 16
        }
      ],
      "source": [
        "# Create KNN classifier\n",
        "knn = KNeighborsClassifier(n_neighbors = 3)\n",
        "# Fit the classifier to the data\n",
        "knn.fit(x_train,y_train)"
      ]
    },
    {
      "cell_type": "code",
      "execution_count": 17,
      "id": "d605df1b-f5a7-48d6-a737-c243d87a990d",
      "metadata": {
        "id": "d605df1b-f5a7-48d6-a737-c243d87a990d"
      },
      "outputs": [],
      "source": [
        "y_pred_knn = knn.predict(x_test)"
      ]
    },
    {
      "cell_type": "code",
      "execution_count": 18,
      "id": "960cb981-68b9-4544-b725-22143401aba4",
      "metadata": {
        "id": "960cb981-68b9-4544-b725-22143401aba4"
      },
      "outputs": [],
      "source": [
        "knn_accuracy = knn.score(x_test,y_test)"
      ]
    },
    {
      "cell_type": "code",
      "execution_count": 19,
      "id": "e9cea12e-727f-4fcb-b8a9-a55df72210be",
      "metadata": {
        "id": "e9cea12e-727f-4fcb-b8a9-a55df72210be"
      },
      "outputs": [],
      "source": [
        "svc = OneVsRestClassifier(SVC(C=2.0)).fit(x_train, y_train)"
      ]
    },
    {
      "cell_type": "code",
      "execution_count": 20,
      "id": "0f1b1a3e-5ac3-4e5a-860f-bdde5f929779",
      "metadata": {
        "id": "0f1b1a3e-5ac3-4e5a-860f-bdde5f929779"
      },
      "outputs": [],
      "source": [
        "y_pred_svc = svc.predict(x_test)"
      ]
    },
    {
      "cell_type": "code",
      "execution_count": 21,
      "id": "f96617fe-5b61-47c5-b352-e0f817233d47",
      "metadata": {
        "id": "f96617fe-5b61-47c5-b352-e0f817233d47"
      },
      "outputs": [],
      "source": [
        "svc_accuracy = svc.score(x_test,y_test)"
      ]
    },
    {
      "cell_type": "code",
      "execution_count": 22,
      "id": "bb117a12-49f8-4e6d-8ea2-e096c40c4b53",
      "metadata": {
        "id": "bb117a12-49f8-4e6d-8ea2-e096c40c4b53"
      },
      "outputs": [],
      "source": [
        "from sklearn.metrics import precision_score\n",
        "from sklearn.metrics import recall_score\n",
        "from sklearn.metrics import f1_score"
      ]
    },
    {
      "cell_type": "code",
      "source": [
        ""
      ],
      "metadata": {
        "id": "SzZ3pqg9WTFY"
      },
      "id": "SzZ3pqg9WTFY",
      "execution_count": null,
      "outputs": []
    },
    {
      "cell_type": "code",
      "execution_count": 23,
      "id": "e75544d0-63ef-4997-8800-7466d1a23587",
      "metadata": {
        "colab": {
          "base_uri": "https://localhost:8080/"
        },
        "id": "e75544d0-63ef-4997-8800-7466d1a23587",
        "outputId": "de0acdd1-5b16-4ead-fdcf-7703952de72d"
      },
      "outputs": [
        {
          "output_type": "stream",
          "name": "stderr",
          "text": [
            "/usr/local/lib/python3.7/dist-packages/sklearn/metrics/_classification.py:1308: UndefinedMetricWarning: Precision is ill-defined and being set to 0.0 in labels with no predicted samples. Use `zero_division` parameter to control this behavior.\n",
            "  _warn_prf(average, modifier, msg_start, len(result))\n"
          ]
        },
        {
          "output_type": "execute_result",
          "data": {
            "text/plain": [
              "0.4301675977653631"
            ]
          },
          "metadata": {},
          "execution_count": 23
        }
      ],
      "source": [
        "svc_precision = precision_score(y_test, y_pred_svc, average='macro')\n",
        "\n",
        "svc_precision"
      ]
    },
    {
      "cell_type": "code",
      "execution_count": 24,
      "id": "f5552054-7e54-465e-8540-2a83eee8749f",
      "metadata": {
        "id": "f5552054-7e54-465e-8540-2a83eee8749f"
      },
      "outputs": [],
      "source": [
        "svc_recall = recall_score(y_test, y_pred_svc, average='macro')"
      ]
    },
    {
      "cell_type": "code",
      "execution_count": 25,
      "id": "b4f76d03-4f87-443b-be34-cb051a2fbe44",
      "metadata": {
        "id": "b4f76d03-4f87-443b-be34-cb051a2fbe44"
      },
      "outputs": [],
      "source": [
        "svc_f1 = f1_score(y_test, y_pred_svc, average='macro')"
      ]
    },
    {
      "cell_type": "code",
      "execution_count": 26,
      "id": "87134370-2082-49d9-8da5-2b22489859d4",
      "metadata": {
        "id": "87134370-2082-49d9-8da5-2b22489859d4",
        "colab": {
          "base_uri": "https://localhost:8080/"
        },
        "outputId": "aa0370a6-4c69-461f-d374-556a078bcd13"
      },
      "outputs": [
        {
          "output_type": "stream",
          "name": "stderr",
          "text": [
            "/usr/local/lib/python3.7/dist-packages/sklearn/metrics/_classification.py:1308: UndefinedMetricWarning: Precision is ill-defined and being set to 0.0 in labels with no predicted samples. Use `zero_division` parameter to control this behavior.\n",
            "  _warn_prf(average, modifier, msg_start, len(result))\n"
          ]
        }
      ],
      "source": [
        "knn_precision = precision_score(y_test, y_pred_knn, average='macro')"
      ]
    },
    {
      "cell_type": "code",
      "execution_count": 27,
      "id": "56b86263-e6a5-421e-92f0-e196f194f3e2",
      "metadata": {
        "colab": {
          "base_uri": "https://localhost:8080/"
        },
        "id": "56b86263-e6a5-421e-92f0-e196f194f3e2",
        "outputId": "51e965d0-32ed-4daf-cb35-00cad77e5cbe"
      },
      "outputs": [
        {
          "output_type": "stream",
          "name": "stderr",
          "text": [
            "/usr/local/lib/python3.7/dist-packages/sklearn/metrics/_classification.py:1308: UndefinedMetricWarning: Recall is ill-defined and being set to 0.0 in labels with no true samples. Use `zero_division` parameter to control this behavior.\n",
            "  _warn_prf(average, modifier, msg_start, len(result))\n"
          ]
        }
      ],
      "source": [
        "knn_recall = recall_score(y_test, y_pred_knn, average='macro')"
      ]
    },
    {
      "cell_type": "code",
      "execution_count": 28,
      "id": "4dbc90e5-100f-4f21-acbb-b49a224316cf",
      "metadata": {
        "id": "4dbc90e5-100f-4f21-acbb-b49a224316cf"
      },
      "outputs": [],
      "source": [
        "knn_f1 =f1_score(y_test, y_pred_knn, average='macro')"
      ]
    },
    {
      "cell_type": "code",
      "execution_count": 29,
      "id": "3f46470e-695b-4afc-bd39-54a27f72b924",
      "metadata": {
        "colab": {
          "base_uri": "https://localhost:8080/"
        },
        "id": "3f46470e-695b-4afc-bd39-54a27f72b924",
        "outputId": "72ccfd01-d870-4287-c725-b68fb0fa0e27"
      },
      "outputs": [
        {
          "output_type": "stream",
          "name": "stdout",
          "text": [
            "0.7252747252747253\n",
            "0.7087912087912088\n"
          ]
        }
      ],
      "source": [
        "print(svc_accuracy)\n",
        "print(knn_accuracy)"
      ]
    },
    {
      "cell_type": "code",
      "execution_count": 30,
      "id": "8381a05f-a424-4e84-a887-e6c855f26a18",
      "metadata": {
        "id": "8381a05f-a424-4e84-a887-e6c855f26a18"
      },
      "outputs": [],
      "source": [
        "from matplotlib.colors import ListedColormap\n"
      ]
    },
    {
      "cell_type": "code",
      "execution_count": 31,
      "id": "bc88b233-31f3-4905-9f2d-919d7857a795",
      "metadata": {
        "id": "bc88b233-31f3-4905-9f2d-919d7857a795"
      },
      "outputs": [],
      "source": [
        "x_data = x_data.to_numpy()"
      ]
    },
    {
      "cell_type": "code",
      "execution_count": 32,
      "id": "595a16a1-8a35-4e57-93a4-4b2ef6d7d84e",
      "metadata": {
        "id": "595a16a1-8a35-4e57-93a4-4b2ef6d7d84e"
      },
      "outputs": [],
      "source": [
        "y_data = y_data.to_numpy()"
      ]
    },
    {
      "cell_type": "code",
      "execution_count": 33,
      "id": "493fe8c3-666e-4f8d-8a8a-5259380f18af",
      "metadata": {
        "colab": {
          "base_uri": "https://localhost:8080/",
          "height": 336
        },
        "id": "493fe8c3-666e-4f8d-8a8a-5259380f18af",
        "outputId": "c6ed5c5b-676e-4211-9608-d52293c8ee2e"
      },
      "outputs": [
        {
          "output_type": "display_data",
          "data": {
            "image/png": "[encoded data removed]",
            "text/plain": [
              "<Figure size 432x288 with 1 Axes>"
            ]
          },
          "metadata": {
            "needs_background": "light"
          }
        }
      ],
      "source": [
        "fig = plt.figure()\n",
        "ax = fig.add_axes([0,0,1,1])\n",
        "labels = ['KNN Accuracy', 'KNN Precision', 'KNN Recall', 'KNN F1 Score']\n",
        "scores = [knn_accuracy,knn_precision,knn_recall,knn_f1]\n",
        "ax.bar(labels,scores)\n",
        "plt.show()"
      ]
    },
    {
      "cell_type": "code",
      "source": [
        "print(svc_accuracy)\n",
        "print(svc_precision)\n",
        "print(svc_recall)\n",
        "print(svc_f1)"
      ],
      "metadata": {
        "colab": {
          "base_uri": "https://localhost:8080/"
        },
        "id": "5VKcr_08ltWW",
        "outputId": "dcfc38ca-0b4f-4598-cf21-06352fbe6e0b"
      },
      "id": "5VKcr_08ltWW",
      "execution_count": 34,
      "outputs": [
        {
          "output_type": "stream",
          "name": "stdout",
          "text": [
            "0.7252747252747253\n",
            "0.4301675977653631\n",
            "0.3125\n",
            "0.3094155844155844\n"
          ]
        }
      ]
    },
    {
      "cell_type": "code",
      "source": [
        "print(knn_accuracy)\n",
        "print(knn_precision)\n",
        "print(knn_recall)\n",
        "print(knn_f1)"
      ],
      "metadata": {
        "colab": {
          "base_uri": "https://localhost:8080/"
        },
        "id": "FBmh5qJynDlk",
        "outputId": "7b56c207-8df8-4fbd-af3c-72f01a35fd23"
      },
      "id": "FBmh5qJynDlk",
      "execution_count": 35,
      "outputs": [
        {
          "output_type": "stream",
          "name": "stdout",
          "text": [
            "0.7087912087912088\n",
            "0.3675609756097561\n",
            "0.26259689922480617\n",
            "0.2757759486046979\n"
          ]
        }
      ]
    },
    {
      "cell_type": "code",
      "execution_count": 38,
      "metadata": {
        "colab": {
          "base_uri": "https://localhost:8080/",
          "height": 295
        },
        "outputId": "a571b378-332f-4273-9a9f-69aced49b4ae",
        "id": "YTlaA_aaltup"
      },
      "outputs": [
        {
          "output_type": "display_data",
          "data": {
            "image/png": "[encoded data removed]",
            "text/plain": [
              "<Figure size 432x288 with 1 Axes>"
            ]
          },
          "metadata": {
            "needs_background": "light"
          }
        }
      ],
      "source": [
        "labels = ['Accuracy', 'Precision', 'Recall', 'F1 Score']\n",
        "knn_scores = [knn_accuracy, knn_precision, knn_recall, knn_f1]\n",
        "svc_scores = [svc_accuracy, svc_precision, svc_recall, svc_f1]\n",
        "\n",
        "X_axis = np.arange(len(labels))  # the label locations\n",
        "width = 0.35  # the width of the bars\n",
        "\n",
        "plt.bar(X_axis - 0.2, knn_scores, width, label = 'KNN')\n",
        "plt.bar(X_axis + 0.2, svc_scores, width, label = 'SVC')\n",
        "  \n",
        "plt.xticks(X_axis, labels)\n",
        "plt.xlabel(\"Metrics\")\n",
        "plt.ylabel(\"Score\")\n",
        "plt.title(\"KNN vs SVC with One-vs-Rest Classifer\")\n",
        "plt.legend()\n",
        "plt.show()"
      ],
      "id": "YTlaA_aaltup"
    },
    {
      "cell_type": "code",
      "source": [
        ""
      ],
      "metadata": {
        "id": "jFfpsjR_2zlx"
      },
      "id": "jFfpsjR_2zlx",
      "execution_count": null,
      "outputs": []
    }
  ],
  "metadata": {
    "kernelspec": {
      "display_name": "Python 3",
      "language": "python",
      "name": "python3"
    },
    "language_info": {
      "codemirror_mode": {
        "name": "ipython",
        "version": 3
      },
      "file_extension": ".py",
      "mimetype": "text/x-python",
      "name": "python",
      "nbconvert_exporter": "python",
      "pygments_lexer": "ipython3",
      "version": "3.8.8"
    },
    "colab": {
      "name": "CS613FinalCode.ipynb",
      "provenance": [],
      "collapsed_sections": []
    }
  },
  "nbformat": 4,
  "nbformat_minor": 5
}